{
 "cells": [
  {
   "cell_type": "markdown",
   "metadata": {},
   "source": []
  },
  {
   "cell_type": "markdown",
   "metadata": {},
   "source": [
    "# Finding personality types using k-means clustering"
   ]
  },
  {
   "cell_type": "code",
   "execution_count": 1,
   "metadata": {},
   "outputs": [],
   "source": [
    "import pandas as pd"
   ]
  },
  {
   "cell_type": "code",
   "execution_count": 2,
   "metadata": {},
   "outputs": [],
   "source": [
    "# Loading the data table (questionnaire answers) from the csv file:\n",
    "DATA = pd.read_csv(\"data-final.csv\", sep='\\t')"
   ]
  },
  {
   "cell_type": "code",
   "execution_count": 3,
   "metadata": {},
   "outputs": [
    {
     "output_type": "execute_result",
     "data": {
      "text/plain": "         EXT1  EXT2  EXT3  EXT4  EXT5  EXT6  EXT7  EXT8  EXT9  EXT10  ...  \\\n0         4.0   1.0   5.0   2.0   5.0   1.0   5.0   2.0   4.0    1.0  ...   \n1         3.0   5.0   3.0   4.0   3.0   3.0   2.0   5.0   1.0    5.0  ...   \n2         2.0   3.0   4.0   4.0   3.0   2.0   1.0   3.0   2.0    5.0  ...   \n3         2.0   2.0   2.0   3.0   4.0   2.0   2.0   4.0   1.0    4.0  ...   \n4         3.0   3.0   3.0   3.0   5.0   3.0   3.0   5.0   3.0    4.0  ...   \n...       ...   ...   ...   ...   ...   ...   ...   ...   ...    ...  ...   \n1015336   4.0   2.0   4.0   3.0   4.0   3.0   3.0   3.0   3.0    3.0  ...   \n1015337   4.0   3.0   4.0   3.0   3.0   3.0   4.0   4.0   3.0    3.0  ...   \n1015338   4.0   2.0   4.0   3.0   5.0   1.0   4.0   2.0   4.0    4.0  ...   \n1015339   2.0   4.0   3.0   4.0   2.0   2.0   1.0   4.0   2.0    4.0  ...   \n1015340   4.0   2.0   4.0   2.0   4.0   1.0   4.0   2.0   4.0    4.0  ...   \n\n                    dateload  screenw  screenh  introelapse  testelapse  \\\n0        2016-03-03 02:01:01    768.0   1024.0          9.0       234.0   \n1        2016-03-03 02:01:20   1360.0    768.0         12.0       179.0   \n2        2016-03-03 02:01:56   1366.0    768.0          3.0       186.0   \n3        2016-03-03 02:02:02   1920.0   1200.0        186.0       219.0   \n4        2016-03-03 02:02:57   1366.0    768.0          8.0       315.0   \n...                      ...      ...      ...          ...         ...   \n1015336  2018-11-08 12:04:58   1920.0   1080.0          3.0       160.0   \n1015337  2018-11-08 12:07:18   1920.0   1080.0          3.0       122.0   \n1015338  2018-11-08 12:07:49   1920.0   1080.0          2.0       135.0   \n1015339  2018-11-08 12:08:34   1920.0   1080.0          6.0       212.0   \n1015340  2018-11-08 12:08:45   1920.0   1080.0          3.0       176.0   \n\n         endelapse  IPC  country  lat_appx_lots_of_err  long_appx_lots_of_err  \n0                6    1       GB               51.5448                 0.1991  \n1               11    1       MY                3.1698                101.706  \n2                7    1       GB               54.9119                -1.3833  \n3                7    1       GB                 51.75                  -1.25  \n4               17    2       KE                   1.0                   38.0  \n...            ...  ...      ...                   ...                    ...  \n1015336         10    2       US               39.9883               -75.2208  \n1015337          7    1       US                  38.0                  -97.0  \n1015338         12    6       US               36.1473                -86.777  \n1015339          8    1       US               34.1067              -117.8067  \n1015340          9    1       US                  38.0                  -97.0  \n\n[1015341 rows x 110 columns]",
      "text/html": "<div>\n<style scoped>\n    .dataframe tbody tr th:only-of-type {\n        vertical-align: middle;\n    }\n\n    .dataframe tbody tr th {\n        vertical-align: top;\n    }\n\n    .dataframe thead th {\n        text-align: right;\n    }\n</style>\n<table border=\"1\" class=\"dataframe\">\n  <thead>\n    <tr style=\"text-align: right;\">\n      <th></th>\n      <th>EXT1</th>\n      <th>EXT2</th>\n      <th>EXT3</th>\n      <th>EXT4</th>\n      <th>EXT5</th>\n      <th>EXT6</th>\n      <th>EXT7</th>\n      <th>EXT8</th>\n      <th>EXT9</th>\n      <th>EXT10</th>\n      <th>...</th>\n      <th>dateload</th>\n      <th>screenw</th>\n      <th>screenh</th>\n      <th>introelapse</th>\n      <th>testelapse</th>\n      <th>endelapse</th>\n      <th>IPC</th>\n      <th>country</th>\n      <th>lat_appx_lots_of_err</th>\n      <th>long_appx_lots_of_err</th>\n    </tr>\n  </thead>\n  <tbody>\n    <tr>\n      <th>0</th>\n      <td>4.0</td>\n      <td>1.0</td>\n      <td>5.0</td>\n      <td>2.0</td>\n      <td>5.0</td>\n      <td>1.0</td>\n      <td>5.0</td>\n      <td>2.0</td>\n      <td>4.0</td>\n      <td>1.0</td>\n      <td>...</td>\n      <td>2016-03-03 02:01:01</td>\n      <td>768.0</td>\n      <td>1024.0</td>\n      <td>9.0</td>\n      <td>234.0</td>\n      <td>6</td>\n      <td>1</td>\n      <td>GB</td>\n      <td>51.5448</td>\n      <td>0.1991</td>\n    </tr>\n    <tr>\n      <th>1</th>\n      <td>3.0</td>\n      <td>5.0</td>\n      <td>3.0</td>\n      <td>4.0</td>\n      <td>3.0</td>\n      <td>3.0</td>\n      <td>2.0</td>\n      <td>5.0</td>\n      <td>1.0</td>\n      <td>5.0</td>\n      <td>...</td>\n      <td>2016-03-03 02:01:20</td>\n      <td>1360.0</td>\n      <td>768.0</td>\n      <td>12.0</td>\n      <td>179.0</td>\n      <td>11</td>\n      <td>1</td>\n      <td>MY</td>\n      <td>3.1698</td>\n      <td>101.706</td>\n    </tr>\n    <tr>\n      <th>2</th>\n      <td>2.0</td>\n      <td>3.0</td>\n      <td>4.0</td>\n      <td>4.0</td>\n      <td>3.0</td>\n      <td>2.0</td>\n      <td>1.0</td>\n      <td>3.0</td>\n      <td>2.0</td>\n      <td>5.0</td>\n      <td>...</td>\n      <td>2016-03-03 02:01:56</td>\n      <td>1366.0</td>\n      <td>768.0</td>\n      <td>3.0</td>\n      <td>186.0</td>\n      <td>7</td>\n      <td>1</td>\n      <td>GB</td>\n      <td>54.9119</td>\n      <td>-1.3833</td>\n    </tr>\n    <tr>\n      <th>3</th>\n      <td>2.0</td>\n      <td>2.0</td>\n      <td>2.0</td>\n      <td>3.0</td>\n      <td>4.0</td>\n      <td>2.0</td>\n      <td>2.0</td>\n      <td>4.0</td>\n      <td>1.0</td>\n      <td>4.0</td>\n      <td>...</td>\n      <td>2016-03-03 02:02:02</td>\n      <td>1920.0</td>\n      <td>1200.0</td>\n      <td>186.0</td>\n      <td>219.0</td>\n      <td>7</td>\n      <td>1</td>\n      <td>GB</td>\n      <td>51.75</td>\n      <td>-1.25</td>\n    </tr>\n    <tr>\n      <th>4</th>\n      <td>3.0</td>\n      <td>3.0</td>\n      <td>3.0</td>\n      <td>3.0</td>\n      <td>5.0</td>\n      <td>3.0</td>\n      <td>3.0</td>\n      <td>5.0</td>\n      <td>3.0</td>\n      <td>4.0</td>\n      <td>...</td>\n      <td>2016-03-03 02:02:57</td>\n      <td>1366.0</td>\n      <td>768.0</td>\n      <td>8.0</td>\n      <td>315.0</td>\n      <td>17</td>\n      <td>2</td>\n      <td>KE</td>\n      <td>1.0</td>\n      <td>38.0</td>\n    </tr>\n    <tr>\n      <th>...</th>\n      <td>...</td>\n      <td>...</td>\n      <td>...</td>\n      <td>...</td>\n      <td>...</td>\n      <td>...</td>\n      <td>...</td>\n      <td>...</td>\n      <td>...</td>\n      <td>...</td>\n      <td>...</td>\n      <td>...</td>\n      <td>...</td>\n      <td>...</td>\n      <td>...</td>\n      <td>...</td>\n      <td>...</td>\n      <td>...</td>\n      <td>...</td>\n      <td>...</td>\n      <td>...</td>\n    </tr>\n    <tr>\n      <th>1015336</th>\n      <td>4.0</td>\n      <td>2.0</td>\n      <td>4.0</td>\n      <td>3.0</td>\n      <td>4.0</td>\n      <td>3.0</td>\n      <td>3.0</td>\n      <td>3.0</td>\n      <td>3.0</td>\n      <td>3.0</td>\n      <td>...</td>\n      <td>2018-11-08 12:04:58</td>\n      <td>1920.0</td>\n      <td>1080.0</td>\n      <td>3.0</td>\n      <td>160.0</td>\n      <td>10</td>\n      <td>2</td>\n      <td>US</td>\n      <td>39.9883</td>\n      <td>-75.2208</td>\n    </tr>\n    <tr>\n      <th>1015337</th>\n      <td>4.0</td>\n      <td>3.0</td>\n      <td>4.0</td>\n      <td>3.0</td>\n      <td>3.0</td>\n      <td>3.0</td>\n      <td>4.0</td>\n      <td>4.0</td>\n      <td>3.0</td>\n      <td>3.0</td>\n      <td>...</td>\n      <td>2018-11-08 12:07:18</td>\n      <td>1920.0</td>\n      <td>1080.0</td>\n      <td>3.0</td>\n      <td>122.0</td>\n      <td>7</td>\n      <td>1</td>\n      <td>US</td>\n      <td>38.0</td>\n      <td>-97.0</td>\n    </tr>\n    <tr>\n      <th>1015338</th>\n      <td>4.0</td>\n      <td>2.0</td>\n      <td>4.0</td>\n      <td>3.0</td>\n      <td>5.0</td>\n      <td>1.0</td>\n      <td>4.0</td>\n      <td>2.0</td>\n      <td>4.0</td>\n      <td>4.0</td>\n      <td>...</td>\n      <td>2018-11-08 12:07:49</td>\n      <td>1920.0</td>\n      <td>1080.0</td>\n      <td>2.0</td>\n      <td>135.0</td>\n      <td>12</td>\n      <td>6</td>\n      <td>US</td>\n      <td>36.1473</td>\n      <td>-86.777</td>\n    </tr>\n    <tr>\n      <th>1015339</th>\n      <td>2.0</td>\n      <td>4.0</td>\n      <td>3.0</td>\n      <td>4.0</td>\n      <td>2.0</td>\n      <td>2.0</td>\n      <td>1.0</td>\n      <td>4.0</td>\n      <td>2.0</td>\n      <td>4.0</td>\n      <td>...</td>\n      <td>2018-11-08 12:08:34</td>\n      <td>1920.0</td>\n      <td>1080.0</td>\n      <td>6.0</td>\n      <td>212.0</td>\n      <td>8</td>\n      <td>1</td>\n      <td>US</td>\n      <td>34.1067</td>\n      <td>-117.8067</td>\n    </tr>\n    <tr>\n      <th>1015340</th>\n      <td>4.0</td>\n      <td>2.0</td>\n      <td>4.0</td>\n      <td>2.0</td>\n      <td>4.0</td>\n      <td>1.0</td>\n      <td>4.0</td>\n      <td>2.0</td>\n      <td>4.0</td>\n      <td>4.0</td>\n      <td>...</td>\n      <td>2018-11-08 12:08:45</td>\n      <td>1920.0</td>\n      <td>1080.0</td>\n      <td>3.0</td>\n      <td>176.0</td>\n      <td>9</td>\n      <td>1</td>\n      <td>US</td>\n      <td>38.0</td>\n      <td>-97.0</td>\n    </tr>\n  </tbody>\n</table>\n<p>1015341 rows × 110 columns</p>\n</div>"
     },
     "metadata": {},
     "execution_count": 3
    }
   ],
   "source": [
    "# Data overview:\n",
    "DATA\n",
    "# EXT = extraversion\n",
    "# EST = neuroticism\n",
    "# AGR = agreeableness\n",
    "# CSN = conscientiousness\n",
    "# OPN = openess (to new experiences)"
   ]
  },
  {
   "cell_type": "markdown",
   "metadata": {},
   "source": [
    "### About the data\n",
    "This data was collected (2016-2018) through an interactive on-line personality test.\n",
    "\n",
    "The personality test was constructed with the \"Big-Five Factor Markers\" from the IPIP. https://ipip.ori.org/newBigFive5broadKey.htm\n",
    "\n",
    "Participants were informed that their responses would be recorded and used for research at the beginning of the test, and asked to confirm their consent at the end of the test.\n",
    "\n",
    "\n",
    "\n",
    "The following items were presented on one page and each was rated on a five point scale using radio buttons. The order on page was was EXT1, AGR1, CSN1, EST1, OPN1, EXT2, etc.\n",
    "\n",
    "The scale was labeled 1=Disagree, 3=Neutral, 5=Agree\n",
    "\n",
    "\n",
    "\n",
    "EXT1\tI am the life of the party.\n",
    "\n",
    "EXT2\tI don't talk a lot.\n",
    "\n",
    "EXT3\tI feel comfortable around people.\n",
    "\n",
    "EXT4\tI keep in the background.\n",
    "\n",
    "EXT5\tI start conversations.\n",
    "\n",
    "EXT6\tI have little to say.\n",
    "\n",
    "EXT7\tI talk to a lot of different people at parties.\n",
    "\n",
    "EXT8\tI don't like to draw attention to myself.\n",
    "\n",
    "EXT9\tI don't mind being the center of attention.\n",
    "\n",
    "EXT10\tI am quiet around strangers.\n",
    "\n",
    "EST1\tI get stressed out easily.\n",
    "\n",
    "EST2\tI am relaxed most of the time.\n",
    "\n",
    "EST3\tI worry about things.\n",
    "\n",
    "EST4\tI seldom feel blue.\n",
    "\n",
    "EST5\tI am easily disturbed.\n",
    "\n",
    "EST6\tI get upset easily.\n",
    "\n",
    "EST7\tI change my mood a lot.\n",
    "\n",
    "EST8\tI have frequent mood swings.\n",
    "\n",
    "EST9\tI get irritated easily.\n",
    "\n",
    "EST10\tI often feel blue.\n",
    "\n",
    "AGR1\tI feel little concern for others.\n",
    "\n",
    "AGR2\tI am interested in people.\n",
    "\n",
    "AGR3\tI insult people.\n",
    "\n",
    "AGR4\tI sympathize with others' feelings.\n",
    "\n",
    "AGR5\tI am not interested in other people's problems.\n",
    "\n",
    "AGR6\tI have a soft heart.\n",
    "\n",
    "AGR7\tI am not really interested in others.\n",
    "\n",
    "AGR8\tI take time out for others.\n",
    "\n",
    "AGR9\tI feel others' emotions.\n",
    "\n",
    "AGR10\tI make people feel at ease.\n",
    "\n",
    "CSN1\tI am always prepared.\n",
    "\n",
    "CSN2\tI leave my belongings around.\n",
    "\n",
    "CSN3\tI pay attention to details.\n",
    "\n",
    "CSN4\tI make a mess of things.\n",
    "\n",
    "CSN5\tI get chores done right away.\n",
    "\n",
    "CSN6\tI often forget to put things back in their proper place.\n",
    "\n",
    "CSN7\tI like order.\n",
    "\n",
    "CSN8\tI shirk my duties.\n",
    "\n",
    "CSN9\tI follow a schedule.\n",
    "\n",
    "CSN10\tI am exacting in my work.\n",
    "\n",
    "OPN1\tI have a rich vocabulary.\n",
    "\n",
    "OPN2\tI have difficulty understanding abstract ideas.\n",
    "\n",
    "OPN3\tI have a vivid imagination.\n",
    "\n",
    "OPN4\tI am not interested in abstract ideas.\n",
    "\n",
    "OPN5\tI have excellent ideas.\n",
    "\n",
    "OPN6\tI do not have a good imagination.\n",
    "\n",
    "OPN7\tI am quick to understand things.\n",
    "\n",
    "OPN8\tI use difficult words.\n",
    "\n",
    "OPN9\tI spend time reflecting on things.\n",
    "\n",
    "OPN10\tI am full of ideas.\n",
    "\n",
    "\n",
    "\n",
    "The time spent on each question is also recorded in milliseconds. These are the variables ending in _E. This was calculated by taking the time when the button for the question was clicked minus the time of the most recent other button click.\n",
    "\n",
    "\n",
    "\n",
    "dateload    The timestamp when the survey was started.\n",
    "\n",
    "screenw     The width the of user's screen in pixels\n",
    "\n",
    "screenh     The height of the user's screen in pixels\n",
    "\n",
    "introelapse The time in seconds spent on the landing / intro page\n",
    "\n",
    "testelapse  The time in seconds spent on the page with the survey questions\n",
    "\n",
    "endelapse   The time in seconds spent on the finalization page (where the user was asked to indicate if they has answered accurately and their answers could be stored and used for research. Again: this dataset only includes users who answered \"Yes\" to this question, users were free to answer no and could still view their results either way)\n",
    "\n",
    "IPC         The number of records from the user's IP address in the dataset. For max cleanliness, only use records where this value is 1. High values can be because of shared networks (e.g. entire universities) or multiple submissions\n",
    "\n",
    "country     The country, determined by technical information (NOT ASKED AS A QUESTION)\n",
    "\n",
    "lat_appx_lots_of_err    approximate latitude of user. determined by technical information, THIS IS NOT VERY ACCURATE. Read the article \"How an internet mapping glitch turned a random Kansas farm into a digital hell\" https://splinternews.com/how-an-internet-mapping-glitch-turned-a-random-kansas-f-1793856052 to learn about the perils of relying on this information\n",
    "\n",
    "long_appx_lots_of_err   approximate longitude of user"
   ]
  },
  {
   "cell_type": "code",
   "execution_count": 4,
   "metadata": {},
   "outputs": [],
   "source": [
    "# Extracting only relevant questionnaire data (removing metadata):\n",
    "df = DATA[DATA.columns[0:50]].fillna(0)"
   ]
  },
  {
   "cell_type": "code",
   "execution_count": 5,
   "metadata": {},
   "outputs": [],
   "source": [
    "# Allowing pandas to show all columns in a table:\n",
    "pd.set_option(\"display.max_columns\", None)"
   ]
  },
  {
   "cell_type": "code",
   "execution_count": 6,
   "metadata": {},
   "outputs": [
    {
     "output_type": "execute_result",
     "data": {
      "text/plain": "         EXT1  EXT2  EXT3  EXT4  EXT5  EXT6  EXT7  EXT8  EXT9  EXT10  EST1  \\\n0         4.0   1.0   5.0   2.0   5.0   1.0   5.0   2.0   4.0    1.0   1.0   \n1         3.0   5.0   3.0   4.0   3.0   3.0   2.0   5.0   1.0    5.0   2.0   \n2         2.0   3.0   4.0   4.0   3.0   2.0   1.0   3.0   2.0    5.0   4.0   \n3         2.0   2.0   2.0   3.0   4.0   2.0   2.0   4.0   1.0    4.0   3.0   \n4         3.0   3.0   3.0   3.0   5.0   3.0   3.0   5.0   3.0    4.0   1.0   \n...       ...   ...   ...   ...   ...   ...   ...   ...   ...    ...   ...   \n1015336   4.0   2.0   4.0   3.0   4.0   3.0   3.0   3.0   3.0    3.0   4.0   \n1015337   4.0   3.0   4.0   3.0   3.0   3.0   4.0   4.0   3.0    3.0   4.0   \n1015338   4.0   2.0   4.0   3.0   5.0   1.0   4.0   2.0   4.0    4.0   3.0   \n1015339   2.0   4.0   3.0   4.0   2.0   2.0   1.0   4.0   2.0    4.0   4.0   \n1015340   4.0   2.0   4.0   2.0   4.0   1.0   4.0   2.0   4.0    4.0   4.0   \n\n         EST2  EST3  EST4  EST5  EST6  EST7  EST8  EST9  EST10  AGR1  AGR2  \\\n0         4.0   4.0   2.0   2.0   2.0   2.0   2.0   3.0    2.0   2.0   5.0   \n1         3.0   4.0   1.0   3.0   1.0   2.0   1.0   3.0    1.0   1.0   4.0   \n2         4.0   4.0   2.0   2.0   2.0   2.0   2.0   1.0    3.0   1.0   4.0   \n3         3.0   3.0   2.0   3.0   2.0   2.0   2.0   4.0    3.0   2.0   4.0   \n4         5.0   5.0   3.0   1.0   1.0   1.0   1.0   3.0    2.0   1.0   5.0   \n...       ...   ...   ...   ...   ...   ...   ...   ...    ...   ...   ...   \n1015336   3.0   3.0   3.0   4.0   3.0   4.0   3.0   3.0    3.0   5.0   4.0   \n1015337   3.0   5.0   1.0   5.0   5.0   4.0   4.0   4.0    5.0   2.0   4.0   \n1015338   2.0   4.0   3.0   2.0   2.0   4.0   2.0   4.0    1.0   3.0   5.0   \n1015339   3.0   4.0   2.0   4.0   4.0   2.0   2.0   4.0    4.0   2.0   3.0   \n1015340   3.0   4.0   3.0   2.0   3.0   3.0   1.0   4.0    2.0   1.0   5.0   \n\n         AGR3  AGR4  AGR5  AGR6  AGR7  AGR8  AGR9  AGR10  CSN1  CSN2  CSN3  \\\n0         2.0   4.0   2.0   3.0   2.0   4.0   3.0    4.0   3.0   4.0   3.0   \n1         1.0   5.0   1.0   5.0   3.0   4.0   5.0    3.0   3.0   2.0   5.0   \n2         1.0   4.0   2.0   4.0   1.0   4.0   4.0    3.0   4.0   2.0   2.0   \n3         3.0   4.0   2.0   4.0   2.0   4.0   3.0    4.0   2.0   4.0   4.0   \n4         1.0   5.0   1.0   3.0   1.0   5.0   5.0    3.0   5.0   1.0   5.0   \n...       ...   ...   ...   ...   ...   ...   ...    ...   ...   ...   ...   \n1015336   2.0   5.0   2.0   4.0   2.0   4.0   4.0    4.0   2.0   3.0   3.0   \n1015337   1.0   4.0   3.0   5.0   3.0   3.0   5.0    3.0   3.0   2.0   3.0   \n1015338   5.0   3.0   2.0   3.0   2.0   4.0   3.0    5.0   4.0   5.0   3.0   \n1015339   2.0   4.0   3.0   4.0   2.0   4.0   4.0    3.0   4.0   2.0   4.0   \n1015340   2.0   4.0   3.0   5.0   2.0   3.0   4.0    5.0   3.0   4.0   3.0   \n\n         CSN4  CSN5  CSN6  CSN7  CSN8  CSN9  CSN10  OPN1  OPN2  OPN3  OPN4  \\\n0         2.0   2.0   4.0   4.0   2.0   4.0    4.0   5.0   1.0   4.0   1.0   \n1         3.0   3.0   1.0   3.0   3.0   5.0    3.0   1.0   2.0   4.0   2.0   \n2         2.0   3.0   3.0   4.0   2.0   4.0    2.0   5.0   1.0   2.0   1.0   \n3         4.0   1.0   2.0   2.0   3.0   1.0    4.0   4.0   2.0   5.0   2.0   \n4         1.0   3.0   1.0   5.0   1.0   5.0    5.0   5.0   1.0   5.0   1.0   \n...       ...   ...   ...   ...   ...   ...    ...   ...   ...   ...   ...   \n1015336   3.0   4.0   4.0   4.0   2.0   3.0    3.0   2.0   2.0   4.0   3.0   \n1015337   4.0   3.0   3.0   2.0   3.0   2.0    3.0   4.0   1.0   5.0   1.0   \n1015338   5.0   1.0   5.0   1.0   4.0   1.0    4.0   5.0   1.0   5.0   1.0   \n1015339   2.0   2.0   2.0   4.0   2.0   4.0    4.0   5.0   2.0   4.0   2.0   \n1015340   3.0   2.0   3.0   3.0   2.0   2.0    3.0   5.0   1.0   5.0   1.0   \n\n         OPN5  OPN6  OPN7  OPN8  OPN9  OPN10  \n0         4.0   1.0   5.0   3.0   4.0    5.0  \n1         3.0   1.0   4.0   2.0   5.0    3.0  \n2         4.0   2.0   5.0   3.0   4.0    4.0  \n3         3.0   1.0   4.0   4.0   3.0    3.0  \n4         5.0   1.0   5.0   3.0   5.0    5.0  \n...       ...   ...   ...   ...   ...    ...  \n1015336   4.0   2.0   4.0   2.0   2.0    4.0  \n1015337   5.0   1.0   3.0   4.0   5.0    4.0  \n1015338   4.0   1.0   5.0   5.0   4.0    5.0  \n1015339   3.0   2.0   4.0   5.0   5.0    3.0  \n1015340   3.0   1.0   5.0   4.0   5.0    5.0  \n\n[1015341 rows x 50 columns]",
      "text/html": "<div>\n<style scoped>\n    .dataframe tbody tr th:only-of-type {\n        vertical-align: middle;\n    }\n\n    .dataframe tbody tr th {\n        vertical-align: top;\n    }\n\n    .dataframe thead th {\n        text-align: right;\n    }\n</style>\n<table border=\"1\" class=\"dataframe\">\n  <thead>\n    <tr style=\"text-align: right;\">\n      <th></th>\n      <th>EXT1</th>\n      <th>EXT2</th>\n      <th>EXT3</th>\n      <th>EXT4</th>\n      <th>EXT5</th>\n      <th>EXT6</th>\n      <th>EXT7</th>\n      <th>EXT8</th>\n      <th>EXT9</th>\n      <th>EXT10</th>\n      <th>EST1</th>\n      <th>EST2</th>\n      <th>EST3</th>\n      <th>EST4</th>\n      <th>EST5</th>\n      <th>EST6</th>\n      <th>EST7</th>\n      <th>EST8</th>\n      <th>EST9</th>\n      <th>EST10</th>\n      <th>AGR1</th>\n      <th>AGR2</th>\n      <th>AGR3</th>\n      <th>AGR4</th>\n      <th>AGR5</th>\n      <th>AGR6</th>\n      <th>AGR7</th>\n      <th>AGR8</th>\n      <th>AGR9</th>\n      <th>AGR10</th>\n      <th>CSN1</th>\n      <th>CSN2</th>\n      <th>CSN3</th>\n      <th>CSN4</th>\n      <th>CSN5</th>\n      <th>CSN6</th>\n      <th>CSN7</th>\n      <th>CSN8</th>\n      <th>CSN9</th>\n      <th>CSN10</th>\n      <th>OPN1</th>\n      <th>OPN2</th>\n      <th>OPN3</th>\n      <th>OPN4</th>\n      <th>OPN5</th>\n      <th>OPN6</th>\n      <th>OPN7</th>\n      <th>OPN8</th>\n      <th>OPN9</th>\n      <th>OPN10</th>\n    </tr>\n  </thead>\n  <tbody>\n    <tr>\n      <th>0</th>\n      <td>4.0</td>\n      <td>1.0</td>\n      <td>5.0</td>\n      <td>2.0</td>\n      <td>5.0</td>\n      <td>1.0</td>\n      <td>5.0</td>\n      <td>2.0</td>\n      <td>4.0</td>\n      <td>1.0</td>\n      <td>1.0</td>\n      <td>4.0</td>\n      <td>4.0</td>\n      <td>2.0</td>\n      <td>2.0</td>\n      <td>2.0</td>\n      <td>2.0</td>\n      <td>2.0</td>\n      <td>3.0</td>\n      <td>2.0</td>\n      <td>2.0</td>\n      <td>5.0</td>\n      <td>2.0</td>\n      <td>4.0</td>\n      <td>2.0</td>\n      <td>3.0</td>\n      <td>2.0</td>\n      <td>4.0</td>\n      <td>3.0</td>\n      <td>4.0</td>\n      <td>3.0</td>\n      <td>4.0</td>\n      <td>3.0</td>\n      <td>2.0</td>\n      <td>2.0</td>\n      <td>4.0</td>\n      <td>4.0</td>\n      <td>2.0</td>\n      <td>4.0</td>\n      <td>4.0</td>\n      <td>5.0</td>\n      <td>1.0</td>\n      <td>4.0</td>\n      <td>1.0</td>\n      <td>4.0</td>\n      <td>1.0</td>\n      <td>5.0</td>\n      <td>3.0</td>\n      <td>4.0</td>\n      <td>5.0</td>\n    </tr>\n    <tr>\n      <th>1</th>\n      <td>3.0</td>\n      <td>5.0</td>\n      <td>3.0</td>\n      <td>4.0</td>\n      <td>3.0</td>\n      <td>3.0</td>\n      <td>2.0</td>\n      <td>5.0</td>\n      <td>1.0</td>\n      <td>5.0</td>\n      <td>2.0</td>\n      <td>3.0</td>\n      <td>4.0</td>\n      <td>1.0</td>\n      <td>3.0</td>\n      <td>1.0</td>\n      <td>2.0</td>\n      <td>1.0</td>\n      <td>3.0</td>\n      <td>1.0</td>\n      <td>1.0</td>\n      <td>4.0</td>\n      <td>1.0</td>\n      <td>5.0</td>\n      <td>1.0</td>\n      <td>5.0</td>\n      <td>3.0</td>\n      <td>4.0</td>\n      <td>5.0</td>\n      <td>3.0</td>\n      <td>3.0</td>\n      <td>2.0</td>\n      <td>5.0</td>\n      <td>3.0</td>\n      <td>3.0</td>\n      <td>1.0</td>\n      <td>3.0</td>\n      <td>3.0</td>\n      <td>5.0</td>\n      <td>3.0</td>\n      <td>1.0</td>\n      <td>2.0</td>\n      <td>4.0</td>\n      <td>2.0</td>\n      <td>3.0</td>\n      <td>1.0</td>\n      <td>4.0</td>\n      <td>2.0</td>\n      <td>5.0</td>\n      <td>3.0</td>\n    </tr>\n    <tr>\n      <th>2</th>\n      <td>2.0</td>\n      <td>3.0</td>\n      <td>4.0</td>\n      <td>4.0</td>\n      <td>3.0</td>\n      <td>2.0</td>\n      <td>1.0</td>\n      <td>3.0</td>\n      <td>2.0</td>\n      <td>5.0</td>\n      <td>4.0</td>\n      <td>4.0</td>\n      <td>4.0</td>\n      <td>2.0</td>\n      <td>2.0</td>\n      <td>2.0</td>\n      <td>2.0</td>\n      <td>2.0</td>\n      <td>1.0</td>\n      <td>3.0</td>\n      <td>1.0</td>\n      <td>4.0</td>\n      <td>1.0</td>\n      <td>4.0</td>\n      <td>2.0</td>\n      <td>4.0</td>\n      <td>1.0</td>\n      <td>4.0</td>\n      <td>4.0</td>\n      <td>3.0</td>\n      <td>4.0</td>\n      <td>2.0</td>\n      <td>2.0</td>\n      <td>2.0</td>\n      <td>3.0</td>\n      <td>3.0</td>\n      <td>4.0</td>\n      <td>2.0</td>\n      <td>4.0</td>\n      <td>2.0</td>\n      <td>5.0</td>\n      <td>1.0</td>\n      <td>2.0</td>\n      <td>1.0</td>\n      <td>4.0</td>\n      <td>2.0</td>\n      <td>5.0</td>\n      <td>3.0</td>\n      <td>4.0</td>\n      <td>4.0</td>\n    </tr>\n    <tr>\n      <th>3</th>\n      <td>2.0</td>\n      <td>2.0</td>\n      <td>2.0</td>\n      <td>3.0</td>\n      <td>4.0</td>\n      <td>2.0</td>\n      <td>2.0</td>\n      <td>4.0</td>\n      <td>1.0</td>\n      <td>4.0</td>\n      <td>3.0</td>\n      <td>3.0</td>\n      <td>3.0</td>\n      <td>2.0</td>\n      <td>3.0</td>\n      <td>2.0</td>\n      <td>2.0</td>\n      <td>2.0</td>\n      <td>4.0</td>\n      <td>3.0</td>\n      <td>2.0</td>\n      <td>4.0</td>\n      <td>3.0</td>\n      <td>4.0</td>\n      <td>2.0</td>\n      <td>4.0</td>\n      <td>2.0</td>\n      <td>4.0</td>\n      <td>3.0</td>\n      <td>4.0</td>\n      <td>2.0</td>\n      <td>4.0</td>\n      <td>4.0</td>\n      <td>4.0</td>\n      <td>1.0</td>\n      <td>2.0</td>\n      <td>2.0</td>\n      <td>3.0</td>\n      <td>1.0</td>\n      <td>4.0</td>\n      <td>4.0</td>\n      <td>2.0</td>\n      <td>5.0</td>\n      <td>2.0</td>\n      <td>3.0</td>\n      <td>1.0</td>\n      <td>4.0</td>\n      <td>4.0</td>\n      <td>3.0</td>\n      <td>3.0</td>\n    </tr>\n    <tr>\n      <th>4</th>\n      <td>3.0</td>\n      <td>3.0</td>\n      <td>3.0</td>\n      <td>3.0</td>\n      <td>5.0</td>\n      <td>3.0</td>\n      <td>3.0</td>\n      <td>5.0</td>\n      <td>3.0</td>\n      <td>4.0</td>\n      <td>1.0</td>\n      <td>5.0</td>\n      <td>5.0</td>\n      <td>3.0</td>\n      <td>1.0</td>\n      <td>1.0</td>\n      <td>1.0</td>\n      <td>1.0</td>\n      <td>3.0</td>\n      <td>2.0</td>\n      <td>1.0</td>\n      <td>5.0</td>\n      <td>1.0</td>\n      <td>5.0</td>\n      <td>1.0</td>\n      <td>3.0</td>\n      <td>1.0</td>\n      <td>5.0</td>\n      <td>5.0</td>\n      <td>3.0</td>\n      <td>5.0</td>\n      <td>1.0</td>\n      <td>5.0</td>\n      <td>1.0</td>\n      <td>3.0</td>\n      <td>1.0</td>\n      <td>5.0</td>\n      <td>1.0</td>\n      <td>5.0</td>\n      <td>5.0</td>\n      <td>5.0</td>\n      <td>1.0</td>\n      <td>5.0</td>\n      <td>1.0</td>\n      <td>5.0</td>\n      <td>1.0</td>\n      <td>5.0</td>\n      <td>3.0</td>\n      <td>5.0</td>\n      <td>5.0</td>\n    </tr>\n    <tr>\n      <th>...</th>\n      <td>...</td>\n      <td>...</td>\n      <td>...</td>\n      <td>...</td>\n      <td>...</td>\n      <td>...</td>\n      <td>...</td>\n      <td>...</td>\n      <td>...</td>\n      <td>...</td>\n      <td>...</td>\n      <td>...</td>\n      <td>...</td>\n      <td>...</td>\n      <td>...</td>\n      <td>...</td>\n      <td>...</td>\n      <td>...</td>\n      <td>...</td>\n      <td>...</td>\n      <td>...</td>\n      <td>...</td>\n      <td>...</td>\n      <td>...</td>\n      <td>...</td>\n      <td>...</td>\n      <td>...</td>\n      <td>...</td>\n      <td>...</td>\n      <td>...</td>\n      <td>...</td>\n      <td>...</td>\n      <td>...</td>\n      <td>...</td>\n      <td>...</td>\n      <td>...</td>\n      <td>...</td>\n      <td>...</td>\n      <td>...</td>\n      <td>...</td>\n      <td>...</td>\n      <td>...</td>\n      <td>...</td>\n      <td>...</td>\n      <td>...</td>\n      <td>...</td>\n      <td>...</td>\n      <td>...</td>\n      <td>...</td>\n      <td>...</td>\n    </tr>\n    <tr>\n      <th>1015336</th>\n      <td>4.0</td>\n      <td>2.0</td>\n      <td>4.0</td>\n      <td>3.0</td>\n      <td>4.0</td>\n      <td>3.0</td>\n      <td>3.0</td>\n      <td>3.0</td>\n      <td>3.0</td>\n      <td>3.0</td>\n      <td>4.0</td>\n      <td>3.0</td>\n      <td>3.0</td>\n      <td>3.0</td>\n      <td>4.0</td>\n      <td>3.0</td>\n      <td>4.0</td>\n      <td>3.0</td>\n      <td>3.0</td>\n      <td>3.0</td>\n      <td>5.0</td>\n      <td>4.0</td>\n      <td>2.0</td>\n      <td>5.0</td>\n      <td>2.0</td>\n      <td>4.0</td>\n      <td>2.0</td>\n      <td>4.0</td>\n      <td>4.0</td>\n      <td>4.0</td>\n      <td>2.0</td>\n      <td>3.0</td>\n      <td>3.0</td>\n      <td>3.0</td>\n      <td>4.0</td>\n      <td>4.0</td>\n      <td>4.0</td>\n      <td>2.0</td>\n      <td>3.0</td>\n      <td>3.0</td>\n      <td>2.0</td>\n      <td>2.0</td>\n      <td>4.0</td>\n      <td>3.0</td>\n      <td>4.0</td>\n      <td>2.0</td>\n      <td>4.0</td>\n      <td>2.0</td>\n      <td>2.0</td>\n      <td>4.0</td>\n    </tr>\n    <tr>\n      <th>1015337</th>\n      <td>4.0</td>\n      <td>3.0</td>\n      <td>4.0</td>\n      <td>3.0</td>\n      <td>3.0</td>\n      <td>3.0</td>\n      <td>4.0</td>\n      <td>4.0</td>\n      <td>3.0</td>\n      <td>3.0</td>\n      <td>4.0</td>\n      <td>3.0</td>\n      <td>5.0</td>\n      <td>1.0</td>\n      <td>5.0</td>\n      <td>5.0</td>\n      <td>4.0</td>\n      <td>4.0</td>\n      <td>4.0</td>\n      <td>5.0</td>\n      <td>2.0</td>\n      <td>4.0</td>\n      <td>1.0</td>\n      <td>4.0</td>\n      <td>3.0</td>\n      <td>5.0</td>\n      <td>3.0</td>\n      <td>3.0</td>\n      <td>5.0</td>\n      <td>3.0</td>\n      <td>3.0</td>\n      <td>2.0</td>\n      <td>3.0</td>\n      <td>4.0</td>\n      <td>3.0</td>\n      <td>3.0</td>\n      <td>2.0</td>\n      <td>3.0</td>\n      <td>2.0</td>\n      <td>3.0</td>\n      <td>4.0</td>\n      <td>1.0</td>\n      <td>5.0</td>\n      <td>1.0</td>\n      <td>5.0</td>\n      <td>1.0</td>\n      <td>3.0</td>\n      <td>4.0</td>\n      <td>5.0</td>\n      <td>4.0</td>\n    </tr>\n    <tr>\n      <th>1015338</th>\n      <td>4.0</td>\n      <td>2.0</td>\n      <td>4.0</td>\n      <td>3.0</td>\n      <td>5.0</td>\n      <td>1.0</td>\n      <td>4.0</td>\n      <td>2.0</td>\n      <td>4.0</td>\n      <td>4.0</td>\n      <td>3.0</td>\n      <td>2.0</td>\n      <td>4.0</td>\n      <td>3.0</td>\n      <td>2.0</td>\n      <td>2.0</td>\n      <td>4.0</td>\n      <td>2.0</td>\n      <td>4.0</td>\n      <td>1.0</td>\n      <td>3.0</td>\n      <td>5.0</td>\n      <td>5.0</td>\n      <td>3.0</td>\n      <td>2.0</td>\n      <td>3.0</td>\n      <td>2.0</td>\n      <td>4.0</td>\n      <td>3.0</td>\n      <td>5.0</td>\n      <td>4.0</td>\n      <td>5.0</td>\n      <td>3.0</td>\n      <td>5.0</td>\n      <td>1.0</td>\n      <td>5.0</td>\n      <td>1.0</td>\n      <td>4.0</td>\n      <td>1.0</td>\n      <td>4.0</td>\n      <td>5.0</td>\n      <td>1.0</td>\n      <td>5.0</td>\n      <td>1.0</td>\n      <td>4.0</td>\n      <td>1.0</td>\n      <td>5.0</td>\n      <td>5.0</td>\n      <td>4.0</td>\n      <td>5.0</td>\n    </tr>\n    <tr>\n      <th>1015339</th>\n      <td>2.0</td>\n      <td>4.0</td>\n      <td>3.0</td>\n      <td>4.0</td>\n      <td>2.0</td>\n      <td>2.0</td>\n      <td>1.0</td>\n      <td>4.0</td>\n      <td>2.0</td>\n      <td>4.0</td>\n      <td>4.0</td>\n      <td>3.0</td>\n      <td>4.0</td>\n      <td>2.0</td>\n      <td>4.0</td>\n      <td>4.0</td>\n      <td>2.0</td>\n      <td>2.0</td>\n      <td>4.0</td>\n      <td>4.0</td>\n      <td>2.0</td>\n      <td>3.0</td>\n      <td>2.0</td>\n      <td>4.0</td>\n      <td>3.0</td>\n      <td>4.0</td>\n      <td>2.0</td>\n      <td>4.0</td>\n      <td>4.0</td>\n      <td>3.0</td>\n      <td>4.0</td>\n      <td>2.0</td>\n      <td>4.0</td>\n      <td>2.0</td>\n      <td>2.0</td>\n      <td>2.0</td>\n      <td>4.0</td>\n      <td>2.0</td>\n      <td>4.0</td>\n      <td>4.0</td>\n      <td>5.0</td>\n      <td>2.0</td>\n      <td>4.0</td>\n      <td>2.0</td>\n      <td>3.0</td>\n      <td>2.0</td>\n      <td>4.0</td>\n      <td>5.0</td>\n      <td>5.0</td>\n      <td>3.0</td>\n    </tr>\n    <tr>\n      <th>1015340</th>\n      <td>4.0</td>\n      <td>2.0</td>\n      <td>4.0</td>\n      <td>2.0</td>\n      <td>4.0</td>\n      <td>1.0</td>\n      <td>4.0</td>\n      <td>2.0</td>\n      <td>4.0</td>\n      <td>4.0</td>\n      <td>4.0</td>\n      <td>3.0</td>\n      <td>4.0</td>\n      <td>3.0</td>\n      <td>2.0</td>\n      <td>3.0</td>\n      <td>3.0</td>\n      <td>1.0</td>\n      <td>4.0</td>\n      <td>2.0</td>\n      <td>1.0</td>\n      <td>5.0</td>\n      <td>2.0</td>\n      <td>4.0</td>\n      <td>3.0</td>\n      <td>5.0</td>\n      <td>2.0</td>\n      <td>3.0</td>\n      <td>4.0</td>\n      <td>5.0</td>\n      <td>3.0</td>\n      <td>4.0</td>\n      <td>3.0</td>\n      <td>3.0</td>\n      <td>2.0</td>\n      <td>3.0</td>\n      <td>3.0</td>\n      <td>2.0</td>\n      <td>2.0</td>\n      <td>3.0</td>\n      <td>5.0</td>\n      <td>1.0</td>\n      <td>5.0</td>\n      <td>1.0</td>\n      <td>3.0</td>\n      <td>1.0</td>\n      <td>5.0</td>\n      <td>4.0</td>\n      <td>5.0</td>\n      <td>5.0</td>\n    </tr>\n  </tbody>\n</table>\n<p>1015341 rows × 50 columns</p>\n</div>"
     },
     "metadata": {},
     "execution_count": 6
    }
   ],
   "source": [
    "# Displaying the dataframe:\n",
    "df"
   ]
  },
  {
   "cell_type": "code",
   "execution_count": 7,
   "metadata": {},
   "outputs": [],
   "source": [
    "from sklearn.cluster import MiniBatchKMeans"
   ]
  },
  {
   "cell_type": "code",
   "execution_count": 8,
   "metadata": {},
   "outputs": [],
   "source": [
    "# Dividing the data into 10 clusters using sklearn k-means (mini batches for faster computation time) algorithm, fitting the data in batches of 100:\n",
    "kmeans = MiniBatchKMeans(n_clusters=10, batch_size=100, max_iter=100, random_state=41).fit(df)"
   ]
  },
  {
   "cell_type": "code",
   "execution_count": 12,
   "metadata": {
    "tags": []
   },
   "outputs": [
    {
     "output_type": "execute_result",
     "data": {
      "text/plain": "10"
     },
     "metadata": {},
     "execution_count": 12
    }
   ],
   "source": [
    "# Checking how many clusters were created:\n",
    "len(kmeans.cluster_centers_)"
   ]
  },
  {
   "cell_type": "code",
   "execution_count": 13,
   "metadata": {},
   "outputs": [],
   "source": [
    "# Defining each cluster as one personality type:\n",
    "a, b, c, d, e, f, g, h, i, j = [kmeans.cluster_centers_[x] for x in range(0, len(kmeans.cluster_centers_))]"
   ]
  },
  {
   "cell_type": "code",
   "execution_count": 14,
   "metadata": {},
   "outputs": [
    {
     "output_type": "execute_result",
     "data": {
      "text/plain": "array([1.84767637, 3.72432811, 2.28544233, 3.87575588, 2.25551512,\n       3.0068589 , 1.75736282, 3.94470885, 2.44554871, 4.2556271 ,\n       2.8818589 , 3.31203807, 3.48267077, 2.69546473, 2.5618981 ,\n       2.437514  , 2.74644457, 2.38043113, 3.24532475, 2.83454647,\n       3.51380179, 2.48488242, 3.06492161, 2.27418813, 3.82628779,\n       2.30540314, 3.74106943, 2.54692049, 2.19132139, 2.74921613,\n       3.53846585, 2.64092945, 4.09454087, 2.40641097, 2.60120381,\n       2.54728443, 3.88717805, 2.52513998, 3.12942329, 3.74322508,\n       4.04490482, 1.76993281, 4.01637738, 1.92318029, 4.00974244,\n       1.88580627, 4.28295073, 3.68933371, 4.14602464, 4.06760918])"
     },
     "metadata": {},
     "execution_count": 14
    }
   ],
   "source": [
    "# Displaying a typical representative of personality type A:\n",
    "a"
   ]
  },
  {
   "cell_type": "code",
   "execution_count": 19,
   "metadata": {},
   "outputs": [
    {
     "output_type": "error",
     "ename": "NameError",
     "evalue": "name 'J' is not defined",
     "traceback": [
      "\u001b[1;31m---------------------------------------------------------------------------\u001b[0m",
      "\u001b[1;31mNameError\u001b[0m                                 Traceback (most recent call last)",
      "\u001b[1;32m<ipython-input-19-f6829770d080>\u001b[0m in \u001b[0;36m<module>\u001b[1;34m\u001b[0m\n\u001b[0;32m      1\u001b[0m types = {'A' : a, 'B' : b, 'C' : c, 'D' : d, 'E' : e,\n\u001b[1;32m----> 2\u001b[1;33m          'F' : f, 'G' : g, 'H' : h, 'I' : i, 'J' : J}\n\u001b[0m\u001b[0;32m      3\u001b[0m \u001b[0mscores\u001b[0m \u001b[1;33m=\u001b[0m \u001b[1;33m{\u001b[0m\u001b[1;33m}\u001b[0m\u001b[1;33m\u001b[0m\u001b[1;33m\u001b[0m\u001b[0m\n",
      "\u001b[1;31mNameError\u001b[0m: name 'J' is not defined"
     ]
    }
   ],
   "source": [
    "types = {'A' : a, 'B' : b, 'C' : c, 'D' : d, 'E' : e,\n",
    "         'F' : f, 'G' : g, 'H' : h, 'I' : i, 'J' : J}\n",
    "scores = {}\n",
    "\n",
    "for name, typ in types.items():"
   ]
  },
  {
   "cell_type": "code",
   "execution_count": null,
   "metadata": {},
   "outputs": [],
   "source": []
  },
  {
   "cell_type": "code",
   "execution_count": null,
   "metadata": {},
   "outputs": [],
   "source": []
  }
 ],
 "metadata": {
  "kernelspec": {
   "display_name": "Python 3",
   "language": "python3",
   "name": "python3"
  },
  "language_info": {
   "codemirror_mode": {
    "name": "ipython",
    "version": 3
   },
   "file_extension": ".py",
   "mimetype": "text/x-python",
   "name": "python",
   "nbconvert_exporter": "python",
   "pygments_lexer": "ipython3",
   "version": "3.7.7"
  }
 },
 "nbformat": 4,
 "nbformat_minor": 4
}